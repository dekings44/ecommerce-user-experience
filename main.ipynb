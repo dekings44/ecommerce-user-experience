{
 "cells": [
  {
   "cell_type": "code",
   "execution_count": 1,
   "id": "293f71df-a431-4536-9704-9b22f0cad7c8",
   "metadata": {},
   "outputs": [],
   "source": [
    "from urllib.request import urlopen\n",
    "from time import time"
   ]
  },
  {
   "cell_type": "code",
   "execution_count": 11,
   "id": "a6b2047e-dd66-4c3f-8674-c56d1390a805",
   "metadata": {},
   "outputs": [
    {
     "name": "stdout",
     "output_type": "stream",
     "text": [
      "The loading time of website is 0.025 seconds\n"
     ]
    }
   ],
   "source": [
    "website = urlopen('https://google.com')\n",
    "open_time = time()\n",
    "output = website.read()\n",
    "close_time = time()\n",
    "website.close()\n",
    "print('The loading time of website is',round(close_time-open_time,3),'seconds')"
   ]
  },
  {
   "cell_type": "code",
   "execution_count": 4,
   "id": "8c0aaf97-ad66-47d6-88ff-4a622b61d885",
   "metadata": {},
   "outputs": [],
   "source": [
    "def load_time(url):\n",
    "    ''' This function take the url of a web page and returns the load time'''\n",
    "    if(\"https\" or \"http\") in url:  # checking for the presence of protocols\n",
    "        website = urlopen(url) #open the url supplied\n",
    "    else:\n",
    "        website = urlopen(\"https://\" + url) # add https protocol if none is provided\n",
    "    open_time = time()\n",
    "    output = website.read()\n",
    "    close_time = time()\n",
    "    website.close()\n",
    "    \n",
    "    print('The loading time of website is',round(close_time-open_time,3),'seconds')"
   ]
  },
  {
   "cell_type": "code",
   "execution_count": 5,
   "id": "fbda5d6b-6792-45a3-95cb-3865435c5100",
   "metadata": {},
   "outputs": [],
   "source": []
  },
  {
   "cell_type": "code",
   "execution_count": null,
   "id": "9f48cf35-7083-4e88-8822-2ea2556385c9",
   "metadata": {},
   "outputs": [],
   "source": []
  },
  {
   "cell_type": "code",
   "execution_count": 6,
   "id": "ae8261b2-7145-4239-a2d8-9fc2f73ad8bf",
   "metadata": {},
   "outputs": [],
   "source": []
  },
  {
   "cell_type": "code",
   "execution_count": 7,
   "id": "eebbdadd-5908-4021-a9fd-441ed0ff7a23",
   "metadata": {},
   "outputs": [],
   "source": []
  },
  {
   "cell_type": "code",
   "execution_count": null,
   "id": "5ed664a0-ef56-45e3-8f39-bbd8d637f866",
   "metadata": {},
   "outputs": [],
   "source": []
  }
 ],
 "metadata": {
  "kernelspec": {
   "display_name": "Python 3 (ipykernel)",
   "language": "python",
   "name": "python3"
  },
  "language_info": {
   "codemirror_mode": {
    "name": "ipython",
    "version": 3
   },
   "file_extension": ".py",
   "mimetype": "text/x-python",
   "name": "python",
   "nbconvert_exporter": "python",
   "pygments_lexer": "ipython3",
   "version": "3.10.7"
  }
 },
 "nbformat": 4,
 "nbformat_minor": 5
}
