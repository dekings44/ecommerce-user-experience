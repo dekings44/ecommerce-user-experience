{
 "cells": [
  {
   "cell_type": "code",
   "execution_count": 1,
   "id": "81df873d-1e81-416c-a03d-889d49cace42",
   "metadata": {},
   "outputs": [
    {
     "name": "stdout",
     "output_type": "stream",
     "text": [
      "                                    URL  Load Time (seconds)\n",
      "0                   https://softbyt.com                0.605\n",
      "1   https://softbyt.com/manual-testing/                0.673\n",
      "2         https://softbyt.com/services/                0.724\n",
      "3    https://softbyt.com/qa-management/                0.338\n",
      "4  https://softbyt.com/data-management/                0.731\n",
      "5             https://www.facebook.com/                0.050\n",
      "6               https://www.google.com/                0.027\n"
     ]
    }
   ],
   "source": [
    "import pandas as pd\n",
    "from urllib.request import urlopen\n",
    "from time import time\n",
    "\n",
    "def load_times(urls):\n",
    "    data = []\n",
    "    \n",
    "    for url in urls:\n",
    "        if \"https\" in url or \"http\" in url:  # checking for the presence of protocols\n",
    "            website = urlopen(url)  # open the url supplied\n",
    "        else:\n",
    "            website = urlopen(\"https://\" + url)  # add https protocol if none is provided\n",
    "        \n",
    "        open_time = time()\n",
    "        output = website.read()\n",
    "        close_time = time()\n",
    "        website.close()\n",
    "        \n",
    "        load_time = round(close_time - open_time, 3)\n",
    "        data.append({'URL': url, 'Load Time (seconds)': load_time})\n",
    "    \n",
    "    df = pd.DataFrame(data)\n",
    "    return df\n",
    "\n",
    "urls = ['https://softbyt.com' ,'https://softbyt.com/manual-testing/', 'https://softbyt.com/services/', 'https://softbyt.com/qa-management/', 'https://softbyt.com/data-management/', 'https://www.facebook.com/', 'https://www.google.com/']\n",
    "result_df = load_times(urls)\n",
    "print(result_df)\n"
   ]
  },
  {
   "cell_type": "code",
   "execution_count": null,
   "id": "3b37a45c-10ae-484e-afcf-c4f0463606fe",
   "metadata": {},
   "outputs": [],
   "source": []
  }
 ],
 "metadata": {
  "kernelspec": {
   "display_name": "Python 3 (ipykernel)",
   "language": "python",
   "name": "python3"
  },
  "language_info": {
   "codemirror_mode": {
    "name": "ipython",
    "version": 3
   },
   "file_extension": ".py",
   "mimetype": "text/x-python",
   "name": "python",
   "nbconvert_exporter": "python",
   "pygments_lexer": "ipython3",
   "version": "3.10.7"
  }
 },
 "nbformat": 4,
 "nbformat_minor": 5
}
